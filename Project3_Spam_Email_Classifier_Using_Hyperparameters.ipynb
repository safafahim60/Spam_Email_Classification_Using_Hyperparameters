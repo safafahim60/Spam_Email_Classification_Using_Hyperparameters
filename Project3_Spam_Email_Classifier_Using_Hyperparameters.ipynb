{
  "nbformat": 4,
  "nbformat_minor": 0,
  "metadata": {
    "colab": {
      "provenance": []
    },
    "kernelspec": {
      "name": "python3",
      "display_name": "Python 3"
    },
    "language_info": {
      "name": "python"
    }
  },
  "cells": [
    {
      "cell_type": "markdown",
      "source": [
        "**Dataset**"
      ],
      "metadata": {
        "id": "qGX5NiPtMgil"
      }
    },
    {
      "cell_type": "code",
      "execution_count": null,
      "metadata": {
        "id": "6eVmbT8H59y1"
      },
      "outputs": [],
      "source": [
        "import pandas as pd\n",
        "dataset = pd.read_csv (r'/content/emails.csv')\n",
        "\n",
        "from sklearn.preprocessing import LabelEncoder"
      ]
    },
    {
      "cell_type": "markdown",
      "source": [
        "**Hyperparameters Tuning of Models**"
      ],
      "metadata": {
        "id": "TatFsLw4MOFW"
      }
    },
    {
      "cell_type": "code",
      "source": [
        "Y= dataset[\"Prediction\"]\n",
        "X= dataset.drop(columns=[\"Email No.\",\"Prediction\"])\n",
        "# Import the StandardScaler class\n",
        "from sklearn.preprocessing import StandardScaler\n",
        "\n",
        "# Create an instance of the StandardScaler class\n",
        "scaler = StandardScaler()\n",
        "\n",
        "# Fit the scaler to the data in X\n",
        "X_scaled = scaler.fit_transform(X)"
      ],
      "metadata": {
        "id": "DFN-xai6M1An"
      },
      "execution_count": null,
      "outputs": []
    },
    {
      "cell_type": "code",
      "source": [
        "X_scaled.shape"
      ],
      "metadata": {
        "colab": {
          "base_uri": "https://localhost:8080/"
        },
        "id": "P9dCjv2Zq_yS",
        "outputId": "99f6ddbb-2c97-489b-e885-ec9e54e87f52"
      },
      "execution_count": null,
      "outputs": [
        {
          "output_type": "execute_result",
          "data": {
            "text/plain": [
              "(5172, 3000)"
            ]
          },
          "metadata": {},
          "execution_count": 21
        }
      ]
    },
    {
      "cell_type": "code",
      "source": [
        "from sklearn.model_selection import train_test_split\n",
        "X_train,X_test,Y_train,Y_test=train_test_split(X_scaled,Y, test_size=0.2, random_state=42)"
      ],
      "metadata": {
        "id": "whkD_FZyoDcF"
      },
      "execution_count": null,
      "outputs": []
    },
    {
      "cell_type": "code",
      "source": [
        "# import numpy as np\n",
        "# import pandas as pd\n",
        "# from sklearn.datasets import load_iris\n",
        "# from sklearn.model_selection import train_test_split, GridSearchCV\n",
        "# from sklearn.linear_model import LogisticRegression\n",
        "# from sklearn.tree import DecisionTreeClassifier\n",
        "# from sklearn.ensemble import RandomForestClassifier, GradientBoostingClassifier\n",
        "# from sklearn.metrics import accuracy_score\n",
        "\n",
        "\n",
        "# # Define the models\n",
        "# Models = {\n",
        "#     \"LR\": LogisticRegression(max_iter=1000),\n",
        "#     \"DT\": DecisionTreeClassifier(),\n",
        "#     \"RF\": RandomForestClassifier(),\n",
        "#     \"GB\": GradientBoostingClassifier()\n",
        "# }\n",
        "\n",
        "# # Define the parameter grid for each model\n",
        "# param_grid = {\n",
        "#     \"LR\": {\n",
        "#         \"C\": [0.1, 1, 10, 100],\n",
        "#         \"solver\": ['newton-cg', 'lbfgs', 'liblinear']\n",
        "#     },\n",
        "#     \"DT\": {\n",
        "#         \"criterion\": ['gini', 'entropy'],\n",
        "#         \"max_depth\": [None, 10, 20, 30],\n",
        "#         \"min_samples_split\": [2, 5, 10]\n",
        "#     },\n",
        "#     \"RF\": {\n",
        "#         \"n_estimators\": [10, 50, 100],\n",
        "#         \"criterion\": ['gini', 'entropy'],\n",
        "#         \"max_depth\": [None, 10, 20, 30],\n",
        "#         \"min_samples_split\": [2, 5, 10]\n",
        "#     },\n",
        "#     \"GB\": {\n",
        "#         \"n_estimators\": [10, 50, 100],\n",
        "#         \"learning_rate\": [0.01, 0.1, 0.5, 1.0],\n",
        "#         \"max_depth\": [3, 5, 7]\n",
        "#     }\n",
        "# }\n",
        "\n",
        "# # Perform grid search for each model\n",
        "# best_models = {}\n",
        "# for model_name in Models:\n",
        "#     print(f\"Performing grid search for {model_name}...\")\n",
        "#     grid_search = GridSearchCV(Models[model_name], param_grid[model_name], cv=3, scoring='accuracy', n_jobs=-1)\n",
        "#     grid_search.fit(X_train, Y_train)\n",
        "#     best_models[model_name] = grid_search.best_estimator_\n",
        "#     print(f\"Best parameters for {model_name}: {grid_search.best_params_}\")\n",
        "#     print(f\"Best cross-validation accuracy for {model_name}: {grid_search.best_score_:.4f}\")\n",
        "\n",
        "# # Evaluate the best models on the test set\n",
        "# for model_name in best_models:\n",
        "#     best_model = best_models[model_name]\n",
        "#     y_pred = best_model.predict(X_test)\n",
        "#     accuracy = accuracy_score(Y_test, y_pred)\n",
        "#     print(f\"Test set accuracy for best {model_name}: {accuracy:.4f}\")\n"
      ],
      "metadata": {
        "colab": {
          "base_uri": "https://localhost:8080/",
          "height": 553
        },
        "collapsed": true,
        "id": "VdDx-TtyrslL",
        "outputId": "e32c7275-8a1d-4132-d7a4-62d36596173a"
      },
      "execution_count": null,
      "outputs": [
        {
          "output_type": "stream",
          "name": "stdout",
          "text": [
            "Performing grid search for LR...\n",
            "Best parameters for LR: {'C': 0.1, 'solver': 'newton-cg'}\n",
            "Best cross-validation accuracy for LR: 0.9737\n",
            "Performing grid search for DT...\n",
            "Best parameters for DT: {'criterion': 'entropy', 'max_depth': 30, 'min_samples_split': 2}\n",
            "Best cross-validation accuracy for DT: 0.9277\n",
            "Performing grid search for RF...\n",
            "Best parameters for RF: {'criterion': 'gini', 'max_depth': None, 'min_samples_split': 5, 'n_estimators': 100}\n",
            "Best cross-validation accuracy for RF: 0.9741\n",
            "Performing grid search for GB...\n"
          ]
        },
        {
          "output_type": "error",
          "ename": "KeyboardInterrupt",
          "evalue": "",
          "traceback": [
            "\u001b[0;31m---------------------------------------------------------------------------\u001b[0m",
            "\u001b[0;31mKeyboardInterrupt\u001b[0m                         Traceback (most recent call last)",
            "\u001b[0;32m<ipython-input-22-9b8578173bbc>\u001b[0m in \u001b[0;36m<cell line: 45>\u001b[0;34m()\u001b[0m\n\u001b[1;32m     46\u001b[0m     \u001b[0mprint\u001b[0m\u001b[0;34m(\u001b[0m\u001b[0;34mf\"Performing grid search for {model_name}...\"\u001b[0m\u001b[0;34m)\u001b[0m\u001b[0;34m\u001b[0m\u001b[0;34m\u001b[0m\u001b[0m\n\u001b[1;32m     47\u001b[0m     \u001b[0mgrid_search\u001b[0m \u001b[0;34m=\u001b[0m \u001b[0mGridSearchCV\u001b[0m\u001b[0;34m(\u001b[0m\u001b[0mModels\u001b[0m\u001b[0;34m[\u001b[0m\u001b[0mmodel_name\u001b[0m\u001b[0;34m]\u001b[0m\u001b[0;34m,\u001b[0m \u001b[0mparam_grid\u001b[0m\u001b[0;34m[\u001b[0m\u001b[0mmodel_name\u001b[0m\u001b[0;34m]\u001b[0m\u001b[0;34m,\u001b[0m \u001b[0mcv\u001b[0m\u001b[0;34m=\u001b[0m\u001b[0;36m5\u001b[0m\u001b[0;34m,\u001b[0m \u001b[0mscoring\u001b[0m\u001b[0;34m=\u001b[0m\u001b[0;34m'accuracy'\u001b[0m\u001b[0;34m,\u001b[0m \u001b[0mn_jobs\u001b[0m\u001b[0;34m=\u001b[0m\u001b[0;34m-\u001b[0m\u001b[0;36m1\u001b[0m\u001b[0;34m)\u001b[0m\u001b[0;34m\u001b[0m\u001b[0;34m\u001b[0m\u001b[0m\n\u001b[0;32m---> 48\u001b[0;31m     \u001b[0mgrid_search\u001b[0m\u001b[0;34m.\u001b[0m\u001b[0mfit\u001b[0m\u001b[0;34m(\u001b[0m\u001b[0mX_train\u001b[0m\u001b[0;34m,\u001b[0m \u001b[0mY_train\u001b[0m\u001b[0;34m)\u001b[0m\u001b[0;34m\u001b[0m\u001b[0;34m\u001b[0m\u001b[0m\n\u001b[0m\u001b[1;32m     49\u001b[0m     \u001b[0mbest_models\u001b[0m\u001b[0;34m[\u001b[0m\u001b[0mmodel_name\u001b[0m\u001b[0;34m]\u001b[0m \u001b[0;34m=\u001b[0m \u001b[0mgrid_search\u001b[0m\u001b[0;34m.\u001b[0m\u001b[0mbest_estimator_\u001b[0m\u001b[0;34m\u001b[0m\u001b[0;34m\u001b[0m\u001b[0m\n\u001b[1;32m     50\u001b[0m     \u001b[0mprint\u001b[0m\u001b[0;34m(\u001b[0m\u001b[0;34mf\"Best parameters for {model_name}: {grid_search.best_params_}\"\u001b[0m\u001b[0;34m)\u001b[0m\u001b[0;34m\u001b[0m\u001b[0;34m\u001b[0m\u001b[0m\n",
            "\u001b[0;32m/usr/local/lib/python3.10/dist-packages/sklearn/model_selection/_search.py\u001b[0m in \u001b[0;36mfit\u001b[0;34m(self, X, y, groups, **fit_params)\u001b[0m\n\u001b[1;32m    872\u001b[0m                 \u001b[0;32mreturn\u001b[0m \u001b[0mresults\u001b[0m\u001b[0;34m\u001b[0m\u001b[0;34m\u001b[0m\u001b[0m\n\u001b[1;32m    873\u001b[0m \u001b[0;34m\u001b[0m\u001b[0m\n\u001b[0;32m--> 874\u001b[0;31m             \u001b[0mself\u001b[0m\u001b[0;34m.\u001b[0m\u001b[0m_run_search\u001b[0m\u001b[0;34m(\u001b[0m\u001b[0mevaluate_candidates\u001b[0m\u001b[0;34m)\u001b[0m\u001b[0;34m\u001b[0m\u001b[0;34m\u001b[0m\u001b[0m\n\u001b[0m\u001b[1;32m    875\u001b[0m \u001b[0;34m\u001b[0m\u001b[0m\n\u001b[1;32m    876\u001b[0m             \u001b[0;31m# multimetric is determined here because in the case of a callable\u001b[0m\u001b[0;34m\u001b[0m\u001b[0;34m\u001b[0m\u001b[0m\n",
            "\u001b[0;32m/usr/local/lib/python3.10/dist-packages/sklearn/model_selection/_search.py\u001b[0m in \u001b[0;36m_run_search\u001b[0;34m(self, evaluate_candidates)\u001b[0m\n\u001b[1;32m   1386\u001b[0m     \u001b[0;32mdef\u001b[0m \u001b[0m_run_search\u001b[0m\u001b[0;34m(\u001b[0m\u001b[0mself\u001b[0m\u001b[0;34m,\u001b[0m \u001b[0mevaluate_candidates\u001b[0m\u001b[0;34m)\u001b[0m\u001b[0;34m:\u001b[0m\u001b[0;34m\u001b[0m\u001b[0;34m\u001b[0m\u001b[0m\n\u001b[1;32m   1387\u001b[0m         \u001b[0;34m\"\"\"Search all candidates in param_grid\"\"\"\u001b[0m\u001b[0;34m\u001b[0m\u001b[0;34m\u001b[0m\u001b[0m\n\u001b[0;32m-> 1388\u001b[0;31m         \u001b[0mevaluate_candidates\u001b[0m\u001b[0;34m(\u001b[0m\u001b[0mParameterGrid\u001b[0m\u001b[0;34m(\u001b[0m\u001b[0mself\u001b[0m\u001b[0;34m.\u001b[0m\u001b[0mparam_grid\u001b[0m\u001b[0;34m)\u001b[0m\u001b[0;34m)\u001b[0m\u001b[0;34m\u001b[0m\u001b[0;34m\u001b[0m\u001b[0m\n\u001b[0m\u001b[1;32m   1389\u001b[0m \u001b[0;34m\u001b[0m\u001b[0m\n\u001b[1;32m   1390\u001b[0m \u001b[0;34m\u001b[0m\u001b[0m\n",
            "\u001b[0;32m/usr/local/lib/python3.10/dist-packages/sklearn/model_selection/_search.py\u001b[0m in \u001b[0;36mevaluate_candidates\u001b[0;34m(candidate_params, cv, more_results)\u001b[0m\n\u001b[1;32m    819\u001b[0m                     )\n\u001b[1;32m    820\u001b[0m \u001b[0;34m\u001b[0m\u001b[0m\n\u001b[0;32m--> 821\u001b[0;31m                 out = parallel(\n\u001b[0m\u001b[1;32m    822\u001b[0m                     delayed(_fit_and_score)(\n\u001b[1;32m    823\u001b[0m                         \u001b[0mclone\u001b[0m\u001b[0;34m(\u001b[0m\u001b[0mbase_estimator\u001b[0m\u001b[0;34m)\u001b[0m\u001b[0;34m,\u001b[0m\u001b[0;34m\u001b[0m\u001b[0;34m\u001b[0m\u001b[0m\n",
            "\u001b[0;32m/usr/local/lib/python3.10/dist-packages/sklearn/utils/parallel.py\u001b[0m in \u001b[0;36m__call__\u001b[0;34m(self, iterable)\u001b[0m\n\u001b[1;32m     61\u001b[0m             \u001b[0;32mfor\u001b[0m \u001b[0mdelayed_func\u001b[0m\u001b[0;34m,\u001b[0m \u001b[0margs\u001b[0m\u001b[0;34m,\u001b[0m \u001b[0mkwargs\u001b[0m \u001b[0;32min\u001b[0m \u001b[0miterable\u001b[0m\u001b[0;34m\u001b[0m\u001b[0;34m\u001b[0m\u001b[0m\n\u001b[1;32m     62\u001b[0m         )\n\u001b[0;32m---> 63\u001b[0;31m         \u001b[0;32mreturn\u001b[0m \u001b[0msuper\u001b[0m\u001b[0;34m(\u001b[0m\u001b[0;34m)\u001b[0m\u001b[0;34m.\u001b[0m\u001b[0m__call__\u001b[0m\u001b[0;34m(\u001b[0m\u001b[0miterable_with_config\u001b[0m\u001b[0;34m)\u001b[0m\u001b[0;34m\u001b[0m\u001b[0;34m\u001b[0m\u001b[0m\n\u001b[0m\u001b[1;32m     64\u001b[0m \u001b[0;34m\u001b[0m\u001b[0m\n\u001b[1;32m     65\u001b[0m \u001b[0;34m\u001b[0m\u001b[0m\n",
            "\u001b[0;32m/usr/local/lib/python3.10/dist-packages/joblib/parallel.py\u001b[0m in \u001b[0;36m__call__\u001b[0;34m(self, iterable)\u001b[0m\n\u001b[1;32m   2005\u001b[0m         \u001b[0mnext\u001b[0m\u001b[0;34m(\u001b[0m\u001b[0moutput\u001b[0m\u001b[0;34m)\u001b[0m\u001b[0;34m\u001b[0m\u001b[0;34m\u001b[0m\u001b[0m\n\u001b[1;32m   2006\u001b[0m \u001b[0;34m\u001b[0m\u001b[0m\n\u001b[0;32m-> 2007\u001b[0;31m         \u001b[0;32mreturn\u001b[0m \u001b[0moutput\u001b[0m \u001b[0;32mif\u001b[0m \u001b[0mself\u001b[0m\u001b[0;34m.\u001b[0m\u001b[0mreturn_generator\u001b[0m \u001b[0;32melse\u001b[0m \u001b[0mlist\u001b[0m\u001b[0;34m(\u001b[0m\u001b[0moutput\u001b[0m\u001b[0;34m)\u001b[0m\u001b[0;34m\u001b[0m\u001b[0;34m\u001b[0m\u001b[0m\n\u001b[0m\u001b[1;32m   2008\u001b[0m \u001b[0;34m\u001b[0m\u001b[0m\n\u001b[1;32m   2009\u001b[0m     \u001b[0;32mdef\u001b[0m \u001b[0m__repr__\u001b[0m\u001b[0;34m(\u001b[0m\u001b[0mself\u001b[0m\u001b[0;34m)\u001b[0m\u001b[0;34m:\u001b[0m\u001b[0;34m\u001b[0m\u001b[0;34m\u001b[0m\u001b[0m\n",
            "\u001b[0;32m/usr/local/lib/python3.10/dist-packages/joblib/parallel.py\u001b[0m in \u001b[0;36m_get_outputs\u001b[0;34m(self, iterator, pre_dispatch)\u001b[0m\n\u001b[1;32m   1648\u001b[0m \u001b[0;34m\u001b[0m\u001b[0m\n\u001b[1;32m   1649\u001b[0m             \u001b[0;32mwith\u001b[0m \u001b[0mself\u001b[0m\u001b[0;34m.\u001b[0m\u001b[0m_backend\u001b[0m\u001b[0;34m.\u001b[0m\u001b[0mretrieval_context\u001b[0m\u001b[0;34m(\u001b[0m\u001b[0;34m)\u001b[0m\u001b[0;34m:\u001b[0m\u001b[0;34m\u001b[0m\u001b[0;34m\u001b[0m\u001b[0m\n\u001b[0;32m-> 1650\u001b[0;31m                 \u001b[0;32myield\u001b[0m \u001b[0;32mfrom\u001b[0m \u001b[0mself\u001b[0m\u001b[0;34m.\u001b[0m\u001b[0m_retrieve\u001b[0m\u001b[0;34m(\u001b[0m\u001b[0;34m)\u001b[0m\u001b[0;34m\u001b[0m\u001b[0;34m\u001b[0m\u001b[0m\n\u001b[0m\u001b[1;32m   1651\u001b[0m \u001b[0;34m\u001b[0m\u001b[0m\n\u001b[1;32m   1652\u001b[0m         \u001b[0;32mexcept\u001b[0m \u001b[0mGeneratorExit\u001b[0m\u001b[0;34m:\u001b[0m\u001b[0;34m\u001b[0m\u001b[0;34m\u001b[0m\u001b[0m\n",
            "\u001b[0;32m/usr/local/lib/python3.10/dist-packages/joblib/parallel.py\u001b[0m in \u001b[0;36m_retrieve\u001b[0;34m(self)\u001b[0m\n\u001b[1;32m   1760\u001b[0m                 (self._jobs[0].get_status(\n\u001b[1;32m   1761\u001b[0m                     timeout=self.timeout) == TASK_PENDING)):\n\u001b[0;32m-> 1762\u001b[0;31m                 \u001b[0mtime\u001b[0m\u001b[0;34m.\u001b[0m\u001b[0msleep\u001b[0m\u001b[0;34m(\u001b[0m\u001b[0;36m0.01\u001b[0m\u001b[0;34m)\u001b[0m\u001b[0;34m\u001b[0m\u001b[0;34m\u001b[0m\u001b[0m\n\u001b[0m\u001b[1;32m   1763\u001b[0m                 \u001b[0;32mcontinue\u001b[0m\u001b[0;34m\u001b[0m\u001b[0;34m\u001b[0m\u001b[0m\n\u001b[1;32m   1764\u001b[0m \u001b[0;34m\u001b[0m\u001b[0m\n",
            "\u001b[0;31mKeyboardInterrupt\u001b[0m: "
          ]
        }
      ]
    },
    {
      "cell_type": "code",
      "source": [
        "# Define the models\n",
        "Models = {\n",
        "    \"LR\": LogisticRegression(max_iter=1000),\n",
        "    \"DT\": DecisionTreeClassifier(),\n",
        "    \"RF\": RandomForestClassifier(),\n",
        "    \"GB\": GradientBoostingClassifier()\n",
        "}\n",
        "\n",
        "# Define the parameter grid for each model with a more restricted parameter grid\n",
        "param_grid = {\n",
        "    \"LR\": {\n",
        "        \"C\": [0.1, 1, 10],  # Reduced number of values\n",
        "        \"solver\": ['lbfgs', 'liblinear']  # Fewer solvers\n",
        "    },\n",
        "    \"DT\": {\n",
        "        \"criterion\": ['gini', 'entropy'],\n",
        "        \"max_depth\": [None, 10, 20],  # Fewer max_depth options\n",
        "        \"min_samples_split\": [2, 5]  # Reduced number of values\n",
        "    },\n",
        "    \"RF\": {\n",
        "        \"n_estimators\": [10, 50],  # Reduced number of values\n",
        "        \"criterion\": ['gini', 'entropy'],\n",
        "        \"max_depth\": [None, 10, 20],  # Fewer max_depth options\n",
        "        \"min_samples_split\": [2, 5]  # Reduced number of values\n",
        "    },\n",
        "    \"GB\": {\n",
        "        \"n_estimators\": [10, 50],  # Reduced number of values\n",
        "        \"learning_rate\": [0.01, 0.1],  # Reduced number of values\n",
        "        \"max_depth\": [3, 5]  # Reduced number of values\n",
        "    }\n",
        "}\n",
        "# param_distributions = {\n",
        "#     \"LR\": {\n",
        "#         \"C\": uniform(0.1, 10),  # Reduced range\n",
        "#         \"solver\": ['lbfgs', 'liblinear']  # Fewer solvers\n",
        "#     },\n",
        "#     \"DT\": {\n",
        "#         \"criterion\": ['gini', 'entropy'],\n",
        "#         \"max_depth\": [None, 10, 20],  # Fewer max_depth options\n",
        "#         \"min_samples_split\": randint(2, 6)  # Reduced range\n",
        "#     },\n",
        "#     \"RF\": {\n",
        "#         \"n_estimators\": randint(10, 51),  # Reduced range\n",
        "#         \"criterion\": ['gini', 'entropy'],\n",
        "#         \"max_depth\": [None, 10, 20],  # Fewer max_depth options\n",
        "#         \"min_samples_split\": randint(2, 6)  # Reduced range\n",
        "#     },\n",
        "#     \"GB\": {\n",
        "#         \"n_estimators\": randint(10, 51),  # Reduced range\n",
        "#         \"learning_rate\": uniform(0.01, 0.2),  # Reduced range\n",
        "#         \"max_depth\": randint(3, 6)  # Reduced range\n",
        "#     }\n",
        "# }\n",
        "\n",
        "# Perform grid search for each model\n",
        "best_models = {}\n",
        "test_accuracies = {}\n",
        "for model_name in Models:\n",
        "    print(f\"Performing grid search for {model_name}...\")\n",
        "    grid_search = GridSearchCV(Models[model_name], param_grid[model_name], cv=3, scoring='accuracy', n_jobs=-1)\n",
        "    grid_search.fit(X_train, Y_train)\n",
        "    best_models[model_name] = grid_search.best_estimator_\n",
        "    print(f\"Best parameters for {model_name}: {grid_search.best_params_}\")\n",
        "    print(f\"Best cross-validation accuracy for {model_name}: {grid_search.best_score_:.4f}\")\n",
        "    # Evaluate the best model on the test set\n",
        "    y_pred = best_models[model_name].predict(X_test)\n",
        "    accuracy = accuracy_score(Y_test, y_pred)\n",
        "    test_accuracies[model_name] = accuracy\n",
        "    print(f\"Test set accuracy for best {model_name}: {accuracy:.4f}\")\n",
        "\n",
        "# Plot the test set accuracies\n",
        "model_names = list(test_accuracies.keys())\n",
        "accuracies = list(test_accuracies.values())\n",
        "\n",
        "plt.figure(figsize=(10, 6))\n",
        "plt.bar(model_names, accuracies, color=['blue', 'green', 'red', 'purple'])\n",
        "plt.xlabel('Model')\n",
        "plt.ylabel('Accuracy')\n",
        "plt.title('Test Set Accuracy of Different Models after Grid Search')\n",
        "plt.ylim(0, 1)\n",
        "for i, v in enumerate(accuracies):\n",
        "    plt.text(i, v + 0.01, f\"{v:.4f}\", ha='center', va='bottom')\n",
        "plt.show()"
      ],
      "metadata": {
        "colab": {
          "base_uri": "https://localhost:8080/",
          "height": 856
        },
        "id": "qjIe3YqrDM9Y",
        "outputId": "5c3a5a4a-288d-4378-fa8e-95321c35fd84"
      },
      "execution_count": null,
      "outputs": [
        {
          "output_type": "stream",
          "name": "stdout",
          "text": [
            "Performing grid search for LR...\n",
            "Best parameters for LR: {'C': 0.1, 'solver': 'lbfgs'}\n",
            "Best cross-validation accuracy for LR: 0.9737\n",
            "Test set accuracy for best LR: 0.9758\n",
            "Performing grid search for DT...\n",
            "Best parameters for DT: {'criterion': 'gini', 'max_depth': None, 'min_samples_split': 5}\n",
            "Best cross-validation accuracy for DT: 0.9270\n",
            "Test set accuracy for best DT: 0.9179\n",
            "Performing grid search for RF...\n",
            "Best parameters for RF: {'criterion': 'entropy', 'max_depth': None, 'min_samples_split': 5, 'n_estimators': 50}\n",
            "Best cross-validation accuracy for RF: 0.9650\n",
            "Test set accuracy for best RF: 0.9720\n",
            "Performing grid search for GB...\n",
            "Best parameters for GB: {'learning_rate': 0.1, 'max_depth': 5, 'n_estimators': 50}\n",
            "Best cross-validation accuracy for GB: 0.9623\n",
            "Test set accuracy for best GB: 0.9700\n"
          ]
        },
        {
          "output_type": "display_data",
          "data": {
            "text/plain": [
              "<Figure size 1000x600 with 1 Axes>"
            ],
            "image/png": "[encoded data removed]"
          },
          "metadata": {}
        }
      ]
    },
    {
      "cell_type": "markdown",
      "source": [
        "**Random Grid Search**"
      ],
      "metadata": {
        "id": "tmGrN-NcNKCb"
      }
    },
    {
      "cell_type": "code",
      "source": [
        "import matplotlib.pyplot as plt\n",
        "from sklearn.model_selection import  RandomizedSearchCV\n",
        "# Define the models\n",
        "Models = {\n",
        "    \"LR\": LogisticRegression(max_iter=1000),\n",
        "    \"DT\": DecisionTreeClassifier(),\n",
        "    \"RF\": RandomForestClassifier(),\n",
        "    \"GB\": GradientBoostingClassifier()\n",
        "}\n",
        "\n",
        "# Define the parameter distributions for each model\n",
        "# param_distributions = {\n",
        "#     \"LR\": {\n",
        "#         \"C\": uniform(0.01, 100),\n",
        "#         \"solver\": ['newton-cg', 'lbfgs', 'liblinear']\n",
        "#     },\n",
        "#     \"DT\": {\n",
        "#         \"criterion\": ['gini', 'entropy'],\n",
        "#         \"max_depth\": [None, 10, 20, 30],\n",
        "#         \"min_samples_split\": randint(2, 11)\n",
        "#     },\n",
        "#     \"RF\": {\n",
        "#         \"n_estimators\": randint(10, 201),\n",
        "#         \"criterion\": ['gini', 'entropy'],\n",
        "#         \"max_depth\": [None, 10, 20, 30],\n",
        "#         \"min_samples_split\": randint(2, 11)\n",
        "#     },\n",
        "#     \"GB\": {\n",
        "#         \"n_estimators\": randint(10, 201),\n",
        "#         \"learning_rate\": uniform(0.01, 1.0),\n",
        "#         \"max_depth\": randint(3, 11)\n",
        "#     }\n",
        "# }\n",
        "from scipy.stats import uniform, randint\n",
        "\n",
        "# Define the parameter distributions for each model with a more restricted parameter grid\n",
        "param_distributions = {\n",
        "    \"LR\": {\n",
        "        \"C\": uniform(0.1, 10),  # Reduced range\n",
        "        \"solver\": ['lbfgs', 'liblinear']  # Fewer solvers\n",
        "    },\n",
        "    \"DT\": {\n",
        "        \"criterion\": ['gini', 'entropy'],\n",
        "        \"max_depth\": [None, 10, 20],  # Fewer max_depth options\n",
        "        \"min_samples_split\": randint(2, 6)  # Reduced range\n",
        "    },\n",
        "    \"RF\": {\n",
        "        \"n_estimators\": randint(10, 51),  # Reduced range\n",
        "        \"criterion\": ['gini', 'entropy'],\n",
        "        \"max_depth\": [None, 10, 20],  # Fewer max_depth options\n",
        "        \"min_samples_split\": randint(2, 6)  # Reduced range\n",
        "    },\n",
        "    \"GB\": {\n",
        "        \"n_estimators\": randint(10, 51),  # Reduced range\n",
        "        \"learning_rate\": uniform(0.01, 0.2),  # Reduced range\n",
        "        \"max_depth\": randint(3, 6)  # Reduced range\n",
        "    }\n",
        "}\n",
        "\n",
        "\n",
        "# Perform random search for each model\n",
        "best_models = {}\n",
        "test_accuracies = {}\n",
        "for model_name in Models:\n",
        "    print(f\"Performing random search for {model_name}...\")\n",
        "    random_search = RandomizedSearchCV(Models[model_name], param_distributions[model_name], cv=3, scoring='accuracy', n_jobs=-1, random_state=42)\n",
        "    random_search.fit(X_train, Y_train)\n",
        "    best_models[model_name] = random_search.best_estimator_\n",
        "    print(f\"Best parameters for {model_name}: {random_search.best_params_}\")\n",
        "    print(f\"Best cross-validation accuracy for {model_name}: {random_search.best_score_:.4f}\")\n",
        "    # Evaluate the best model on the test set\n",
        "    y_pred = best_models[model_name].predict(X_test)\n",
        "    accuracy = accuracy_score(Y_test, y_pred)\n",
        "    test_accuracies[model_name] = accuracy\n",
        "    print(f\"Test set accuracy for best {model_name}: {accuracy:.4f}\")\n",
        "\n",
        "# Plot the test set accuracies\n",
        "model_names = list(test_accuracies.keys())\n",
        "accuracies = list(test_accuracies.values())\n",
        "\n",
        "plt.figure(figsize=(10, 6))\n",
        "plt.bar(model_names, accuracies, color=['blue', 'green', 'red', 'purple'])\n",
        "plt.xlabel('Model')\n",
        "plt.ylabel('Accuracy')\n",
        "plt.title('Test Set Accuracy of Different Models after Random Search')\n",
        "plt.ylim(0, 1)\n",
        "for i, v in enumerate(accuracies):\n",
        "    plt.text(i, v + 0.01, f\"{v:.4f}\", ha='center', va='bottom')\n",
        "plt.show()\n",
        "\n"
      ],
      "metadata": {
        "colab": {
          "base_uri": "https://localhost:8080/",
          "height": 856
        },
        "id": "aMPVKM2Rt1Ei",
        "outputId": "332d4820-953b-4ef1-c37c-e8be8348b67a"
      },
      "execution_count": null,
      "outputs": [
        {
          "output_type": "stream",
          "name": "stdout",
          "text": [
            "Performing random search for LR...\n",
            "Best parameters for LR: {'C': 3.845401188473625, 'solver': 'lbfgs'}\n",
            "Best cross-validation accuracy for LR: 0.9671\n",
            "Test set accuracy for best LR: 0.9671\n",
            "Performing random search for DT...\n",
            "Best parameters for DT: {'criterion': 'gini', 'max_depth': None, 'min_samples_split': 2}\n",
            "Best cross-validation accuracy for DT: 0.9270\n",
            "Test set accuracy for best DT: 0.9246\n",
            "Performing random search for RF...\n",
            "Best parameters for RF: {'criterion': 'gini', 'max_depth': None, 'min_samples_split': 4, 'n_estimators': 28}\n",
            "Best cross-validation accuracy for RF: 0.9594\n",
            "Test set accuracy for best RF: 0.9691\n",
            "Performing random search for GB...\n",
            "Best parameters for GB: {'learning_rate': 0.15639878836228102, 'max_depth': 3, 'n_estimators': 30}\n",
            "Best cross-validation accuracy for GB: 0.9425\n",
            "Test set accuracy for best GB: 0.9527\n"
          ]
        },
        {
          "output_type": "display_data",
          "data": {
            "text/plain": [
              "<Figure size 1000x600 with 1 Axes>"
            ],
            "image/png": "[encoded data removed]"
          },
          "metadata": {}
        }
      ]
    }
  ]
}